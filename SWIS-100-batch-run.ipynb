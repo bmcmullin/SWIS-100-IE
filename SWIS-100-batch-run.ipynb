{
 "cells": [
  {
   "cell_type": "markdown",
   "metadata": {},
   "source": [
    "# SWIS-100 Batch run\n",
    "\n",
    "This is an illustrative notebook for running a SWIS-100 \"experiment\" - a batch of single runs, driven from an array of run configurations provided via a single external (hard coded) .ods spreadsheet file. It provides a notebook-based alternative to the command line script version. In principle, it allows batch runs via the [mybinder.org](http://www.mybinder.org) cloud service; but note that in that specific use case, it is essential to download the output file(s) before the mybinder.org session terminates.\n"
   ]
  },
  {
   "cell_type": "code",
   "execution_count": null,
   "metadata": {},
   "outputs": [],
   "source": [
    "import os\n",
    "import numpy as np\n",
    "import pandas as pd\n",
    "import swis100 as swis\n"
   ]
  },
  {
   "cell_type": "code",
   "execution_count": null,
   "metadata": {},
   "outputs": [],
   "source": [
    "batch_configs = pd.read_excel('batch-run-example/batch_config.ods',\n",
    "                              header=0,\n",
    "                              index_col=0,\n",
    "                              sheet_name='swis-config',\n",
    "                              converters=swis.config_converters\n",
    "                             )\n",
    "\n",
    "display(batch_configs)\n"
   ]
  },
  {
   "cell_type": "code",
   "execution_count": null,
   "metadata": {},
   "outputs": [],
   "source": [
    "batch_configs_dict = batch_configs.to_dict(orient='index')\n",
    "\n",
    "display(batch_configs_dict)"
   ]
  },
  {
   "cell_type": "code",
   "execution_count": null,
   "metadata": {},
   "outputs": [],
   "source": [
    "batch_dir='batch-run-example'\n",
    "os.makedirs(batch_dir,exist_ok=True) # Precautionary\n"
   ]
  },
  {
   "cell_type": "markdown",
   "metadata": {},
   "source": [
    "## Solve the system (batch-run, no parallelization support)"
   ]
  },
  {
   "cell_type": "code",
   "execution_count": null,
   "metadata": {},
   "outputs": [],
   "source": [
    "batch_stats = pd.DataFrame(dtype=object)\n",
    "for run_id in batch_configs_dict.keys() :\n",
    "    display(run_id)\n",
    "    run_config = batch_configs_dict[run_id]\n",
    "    network = swis.solve_network(run_config)\n",
    "    \n",
    "    #network.export_to_netcdf(batch_dir+'/'+run_id+'-network.nc') \n",
    "        # Uncomment if full network object data should be saved; but note that\n",
    "        # SWIS-100-IE does not provide any pre-built tools to further view or process such files.\n",
    "    \n",
    "    batch_stats[run_id] = swis.gather_run_stats(run_config, network)"
   ]
  },
  {
   "cell_type": "code",
   "execution_count": null,
   "metadata": {},
   "outputs": [],
   "source": [
    "with pd.option_context('display.max_rows', None): # Display ALL rows (no ellipsis)\n",
    "    display(batch_stats)"
   ]
  },
  {
   "cell_type": "markdown",
   "metadata": {},
   "source": [
    "## Dump (volatile) run data to (persistent) file storage\n"
   ]
  },
  {
   "cell_type": "code",
   "execution_count": null,
   "metadata": {},
   "outputs": [],
   "source": [
    "\n",
    "#run_config_series=pd.Series(run_config, dtype=object, name=run_id)\n",
    "#batch_configs.to_excel(batch_dir+'/batch_config.ods')\n",
    "batch_stats.to_excel(batch_dir+'/batch_stats.ods')\n"
   ]
  }
 ],
 "metadata": {
  "kernelspec": {
   "display_name": "Python 3",
   "language": "python",
   "name": "python3"
  },
  "language_info": {
   "codemirror_mode": {
    "name": "ipython",
    "version": 3
   },
   "file_extension": ".py",
   "mimetype": "text/x-python",
   "name": "python",
   "nbconvert_exporter": "python",
   "pygments_lexer": "ipython3",
   "version": "3.7.8"
  }
 },
 "nbformat": 4,
 "nbformat_minor": 4
}
