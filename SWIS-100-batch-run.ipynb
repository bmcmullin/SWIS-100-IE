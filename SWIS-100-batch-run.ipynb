{
 "cells": [
  {
   "cell_type": "markdown",
   "metadata": {},
   "source": [
    "# SWIS-100 Batch run\n",
    "\n",
    "This is an experimental notebook for running a SWIS-100 \"experiment\" - a batch of single runs, driven from an array of run configurations provided via a single external (hard coded) .ods spreadsheet file. It is really just a testbed for a command line script version.\n"
   ]
  },
  {
   "cell_type": "code",
   "execution_count": null,
   "metadata": {},
   "outputs": [],
   "source": [
    "import os\n",
    "import numpy as np\n",
    "import pandas as pd\n",
    "import swis100 as swis\n"
   ]
  },
  {
   "cell_type": "code",
   "execution_count": null,
   "metadata": {},
   "outputs": [],
   "source": [
    "# Arguably, this mapping should be put in the configs.ods input file and read from there\n",
    "# as a preliminary step... but this works for the moment.\n",
    "\n",
    "config_types = {\n",
    "    #'id' : str,\n",
    "    'use_pyomo' : bool,\n",
    "    'solver_name' : str,\n",
    "    'assumptions_src' : str,\n",
    "    'assumptions_year' : int,\n",
    "    'usd_to_eur' : float,\n",
    "    'constant_load_flag' : bool,\n",
    "    'load_year_start' : int,\n",
    "    'load_scope' : str,\n",
    "    'snapshot_interval' : int,\n",
    "    'nuclear_SMR_min_p (GW)' : float,\n",
    "    'nuclear_SMR_max_p (GW)' : float,\n",
    "    'weather_year_start' : int,\n",
    "    'Nyears' : int,\n",
    "    'solar_marginal_cost' : float,\n",
    "    'onshore_wind_marginal_cost' : float,\n",
    "    'offshore_wind_marginal_cost' : float,\n",
    "    'offshore_wind_min_p (GW)' : float,\n",
    "    'offshore_wind_max_p (GW)' : float,\n",
    "    'onshore_wind_min_p (GW)' : float,\n",
    "    'onshore_wind_max_p (GW)' : float,\n",
    "    'solar_min_p (GW)' : float,\n",
    "    'solar_max_p (GW)' : float,\n",
    "    'IC_min_p (GW)' : float,\n",
    "    'IC_max_p (GW)' : float,\n",
    "    'IC_max_e (TWh)' : float,\n",
    "    'Battery_max_p (MW)' : float,\n",
    "    'Battery_max_e (MWh)' : float,\n",
    "    'H2_electrolysis_tech' : str,\n",
    "    'H2_electrolysis_max_p (GW)' : float,\n",
    "    'H2_CCGT_max_p (GW)' : float,\n",
    "    'H2_OCGT_max_p (GW)' : float,\n",
    "    'H2_storage_tech' : str,\n",
    "    'H2_store_max_e (TWh)' : float\n",
    "}"
   ]
  },
  {
   "cell_type": "code",
   "execution_count": null,
   "metadata": {},
   "outputs": [],
   "source": [
    "# Note that we read the configs in a \"transposed\" form. This transposition hack is needed to \n",
    "# allow casting of types on the basis of config var: pd.read_excel() only allows this by col, \n",
    "# not row...\n",
    "\n",
    "batch_configs = pd.read_excel('runs/batch-run/test_configs.ods',\n",
    "                              #dtype=object,\n",
    "                              header=0,\n",
    "                              index_col=0,\n",
    "                              sheet_name='transpose',\n",
    "                              converters=config_types\n",
    "                             )\n",
    "\n",
    "display(batch_configs)\n"
   ]
  },
  {
   "cell_type": "code",
   "execution_count": null,
   "metadata": {},
   "outputs": [],
   "source": [
    "batch_configs_dict = batch_configs.to_dict(orient='index')\n",
    "#batch_configs_dict.keys()"
   ]
  },
  {
   "cell_type": "markdown",
   "metadata": {},
   "source": [
    "## Solve the system (batch-run, no parallelization support)"
   ]
  },
  {
   "cell_type": "code",
   "execution_count": null,
   "metadata": {},
   "outputs": [],
   "source": [
    "batch_stats = pd.DataFrame(dtype=object)\n",
    "for run_id in batch_configs_dict.keys() :\n",
    "    display(run_id)\n",
    "    run_config = batch_configs_dict[run_id]\n",
    "    network = swis.solve_network(run_config)\n",
    "    batch_stats[run_id] = swis.gather_run_stats(run_config, network)"
   ]
  },
  {
   "cell_type": "code",
   "execution_count": null,
   "metadata": {},
   "outputs": [],
   "source": [
    "with pd.option_context('display.max_rows', None): # Display ALL rows (no ellipsis)\n",
    "    display(batch_stats)"
   ]
  },
  {
   "cell_type": "markdown",
   "metadata": {},
   "source": [
    "## Dump (volatile) run data to (persistent) file storage (just in case...)\n",
    "\n",
    "**FIXME:** This is very rough and ready - needs much better approach!\n",
    "Currently offers no ready way to re-load/re-run previous configs... :-(\n"
   ]
  },
  {
   "cell_type": "code",
   "execution_count": null,
   "metadata": {},
   "outputs": [],
   "source": [
    "batch_id = 'scratch'\n",
    "batch_dir='runs/batch-run/'+batch_id\n",
    "os.makedirs(batch_dir,exist_ok=True)\n",
    "\n",
    "#run_config_series=pd.Series(run_config, dtype=object, name=run_id)\n",
    "batch_configs.to_excel(batch_dir+'/batch_config.ods')\n",
    "batch_stats.to_excel(batch_dir+'/batch_stats.ods')\n"
   ]
  },
  {
   "cell_type": "code",
   "execution_count": null,
   "metadata": {},
   "outputs": [],
   "source": []
  }
 ],
 "metadata": {
  "kernelspec": {
   "display_name": "Python 3",
   "language": "python",
   "name": "python3"
  },
  "language_info": {
   "codemirror_mode": {
    "name": "ipython",
    "version": 3
   },
   "file_extension": ".py",
   "mimetype": "text/x-python",
   "name": "python",
   "nbconvert_exporter": "python",
   "pygments_lexer": "ipython3",
   "version": "3.7.8"
  }
 },
 "nbformat": 4,
 "nbformat_minor": 4
}
