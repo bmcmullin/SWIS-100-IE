{
 "cells": [
  {
   "cell_type": "markdown",
   "metadata": {},
   "source": [
    "# SWIS-100 \"Single Run\" notebook\n",
    "## Set up run (interactive/single-shot)"
   ]
  },
  {
   "cell_type": "code",
   "execution_count": null,
   "metadata": {},
   "outputs": [],
   "source": [
    "import os\n",
    "import numpy as np\n",
    "import pandas as pd\n",
    "import swis100 as swis"
   ]
  },
  {
   "cell_type": "code",
   "execution_count": null,
   "metadata": {},
   "outputs": [],
   "source": [
    "display(swis.solar_pu_raw)\n",
    "display(swis.wind_pu_raw)\n",
    "display(swis.elec_load_data_raw)\n",
    "display(swis.transport_load_data_raw)\n",
    "display(swis.when2heat_data)\n",
    "display(swis.assumptions_raw)"
   ]
  },
  {
   "cell_type": "code",
   "execution_count": null,
   "metadata": {},
   "outputs": [],
   "source": [
    "run_config = {}\n",
    "\n",
    "run_config['solver_name'] = 'cbc'\n",
    "\n",
    "run_config['assumptions_year'] = 2030 # Used to select projected nominal technology costs\n",
    "\n",
    "# https://www.ecb.europa.eu/stats/policy_and_exchange_rates/euro_reference_exchange_rates/html/eurofxref-graph-usd.en.html\n",
    "# Change from 7 July 2019 to 8 July 2020\n",
    "# Minimum (20 March 2020): 1.0707 - Maximum (9 March 2020): 1.1456 - Average: 1.1058\n",
    "run_config['usd_to_eur'] = (1.0/1.1058)\n",
    "\n",
    "run_config['Nyears'] = 1\n",
    "run_config['snapshot_interval'] = 12 # hours\n",
    "run_config['elec_load_year_start'] = 2014\n",
    "# Available year(s) for variable electricity load data: 2014-2019 inclusive\n",
    "run_config['transport_load_year_start'] = 2014\n",
    "# Available year(s) for transport load data: 1991-2017 inclusive \n",
    "run_config['heat_year_start'] = 2010\n",
    "# Available year(s) for low temperature heat data: 2008-2013 inclusive \n",
    "run_config['weather_year_start'] = 2010\n",
    "# Available year(s) for solar and wind weather data: solar 1985-2015 inclusive, wind 1980-2016\n",
    "\n",
    "run_config['delta_CO2_atm_max (MtCO2)'] = 0.0 # Net removal over the run, MtCO2\n",
    "\n",
    "# If want test on constant electricity load, set this True\n",
    "run_config['constant_elec_load_flag'] = False\n",
    "if run_config['constant_elec_load_flag'] :\n",
    "    run_config['constant_elec_load (GW)'] = 1.0\n",
    "else :\n",
    "    run_config['elec_load_scope']=\"IE\"\n",
    "\n",
    "# If want test on constant surface transport load, set this True\n",
    "run_config['constant_surface_transport_load_flag'] = False\n",
    "if run_config['constant_surface_transport_load_flag'] :\n",
    "    run_config['constant_surface_transport_load (GW)'] = 1.0\n",
    "\n",
    "# If want test on constant air transport load, set this True\n",
    "run_config['constant_air_transport_load_flag'] = False\n",
    "if run_config['constant_air_transport_load_flag'] :\n",
    "    run_config['constant_air_transport_load (GW)'] = 1.0\n",
    "\n",
    "# If want test on constant low temperature heating load, set this True\n",
    "run_config['constant_lo_temp_heat_load_flag'] = False\n",
    "if run_config['constant_lo_temp_heat_load_flag'] :\n",
    "    run_config['constant_lo_temp_heat_load (GW)'] = 1.0\n",
    "\n",
    "run_config['nuclear_SMR_min_p (GW)'] = 0.0\n",
    "run_config['nuclear_SMR_max_p (GW)'] = 0.0 # No nuclear\n",
    "\n",
    "# Set nominal VRE marginal costs to contol dispatch priority. Lower cost gets higher\n",
    "# priority). Set all to non-zero so that curtailment/dispatch down at source is \n",
    "# preferred over discarding energy from storage (though presumably as long as there are\n",
    "# *any* fixed costs of storage, this would be avoided by minimising storage size anyway).\n",
    "run_config['solar_marginal_cost'] =0.03 # €/MWh\n",
    "run_config['onshore_wind_marginal_cost'] =0.02 # €/MWh\n",
    "run_config['offshore_wind_marginal_cost'] =0.01 # €/MWh\n",
    "\n",
    "run_config['offshore_wind_min_p (GW)'] = 0.0\n",
    "run_config['offshore_wind_max_p (GW)'] = +np.inf\n",
    "#run_config['offshore_wind_max_p (GW)'] = 20.0\n",
    "\n",
    "run_config['onshore_wind_min_p (GW)'] = 0.0 # Config var does still need to be defined...\n",
    "#run_config['onshore_wind_min_p (GW)'] = 4.2548+1.2763\n",
    "    # Sep 2020 installed capacity (all onshore)\n",
    "    # IE: 4.2548, NI: 1.2763\n",
    "    # per eirgrid \"System and Renewable Data Summary Report\"\n",
    "    # http://www.eirgridgroup.com/site-files/library/EirGrid/System-and-Renewable-Data-Summary-Report.xlsx\n",
    "#run_config['onshore_wind_max_p (GW)'] = +np.inf\n",
    "run_config['onshore_wind_max_p (GW)'] = 8.2 \n",
    "    # 2030 ambition in CAP-2019 (RES-E 70%) - not necessarily upper limit\n",
    "\n",
    "run_config['solar_min_p (GW)'] = 0.0\n",
    "#run_config['solar_max_p (GW)'] = +np.inf\n",
    "#run_config['solar_max_p (GW)'] = 1.5 \n",
    "    # 2030 ambition in CAP-2019, via NDP (RES-E 55%) - not necessarily upper limit\n",
    "run_config['solar_max_p (GW)'] = 1.5*2.0 # Speculative: x2 the 2030 CAP-2019 target as ~ultimate limit? \n",
    "\n",
    "#run_config['IC_min_p (GW)'] = 0.5+0.5 # EWIC + Moyle\n",
    "run_config['IC_min_p (GW)'] = 0.0 # Config var does still need to be defined...\n",
    "\n",
    "#run_config['IC_max_p (GW)'] = +np.inf # Unlimited IC\n",
    "run_config['IC_max_p (GW)'] = 0.5+0.5+0.8 # EWIC + Moyle + Celtic\n",
    "#run_config['IC_max_p (GW)'] = 0.5+0.5 # EWIC + Moyle\n",
    "#run_config['IC_max_p (GW)'] = 0.0 # No IC\n",
    "\n",
    "#run_config['IC_max_e (TWh)'] = +np.inf\n",
    "run_config['IC_max_e (TWh)'] = (\n",
    "    run_config['IC_max_p (GW)'] * 14.0 * 12.0)/1.0e3 # 14 days max IC buffer\n",
    "\n",
    "run_config['Battery_max_p (MW)'] = +np.inf\n",
    "run_config['Battery_max_e (MWh)'] = +np.inf\n",
    "\n",
    "run_config['H2_electrolysis_tech'] = 'default'\n",
    "#run_config['H2_electrolysis_tech'] = 'Nicola-NEL'\n",
    "\n",
    "run_config['H2_electrolysis_max_p (GW)'] = +np.inf\n",
    "run_config['H2_CCGT_max_p (GW)'] = +np.inf\n",
    "run_config['H2_OCGT_max_p (GW)'] = +np.inf\n",
    "\n",
    "run_config['H2_storage_tech'] = 'salt cavern'\n",
    "#run_config['H2_storage_tech'] = 'rock cavern'\n",
    "#run_config['H2_storage_tech'] = 'steel tank'\n",
    "\n",
    "run_config['H2_store_max_e (TWh)'] = +np.inf\n",
    "\n",
    "run_config['BEV_min_p (GW)'] = 0.0\n",
    "run_config['BEV_max_p (GW)'] = +np.inf\n",
    "run_config['FCEV_min_p (GW)'] = 0.0\n",
    "run_config['FCEV_max_p (GW)'] = +np.inf\n",
    "\n",
    "run_config['ASHP_min_p (GW)'] = 0.0\n",
    "run_config['ASHP_max_p (GW)'] = +np.inf\n",
    "run_config['H2_boiler_min_p (GW)'] = 0.0\n",
    "run_config['H2_boiler_max_p (GW)'] = +np.inf\n",
    "\n",
    "display(run_config)\n",
    "#print(run_config)"
   ]
  },
  {
   "cell_type": "markdown",
   "metadata": {},
   "source": [
    "## Solve the system (interactive/single-shot)"
   ]
  },
  {
   "cell_type": "code",
   "execution_count": null,
   "metadata": {},
   "outputs": [],
   "source": [
    "network = swis.solve_network(run_config)"
   ]
  },
  {
   "cell_type": "code",
   "execution_count": null,
   "metadata": {},
   "outputs": [],
   "source": [
    "run_stats=swis.gather_run_stats(run_config, network)\n",
    "with pd.option_context('display.max_rows', None): # Display ALL rows (no ellipsis)\n",
    "    display(run_stats)"
   ]
  },
  {
   "cell_type": "markdown",
   "metadata": {},
   "source": [
    "## Some one-off plotting\n",
    "\n",
    "### \"Tolerance\" note!\n",
    "\n",
    "For some reason (solver tolerance?) some solution values that should be strictly \n",
    "positive or negative may be infinitesimally (< 10e-10) of the other sign. This will cause \n",
    "`df.plot(stacked=True)` to throw an error (requires all values to have same sign, positive or \n",
    "negative). So we do a somewhat ugly `.round(10)` kludge to fix it..."
   ]
  },
  {
   "cell_type": "markdown",
   "metadata": {},
   "source": [
    "### Set up plot period\n",
    "\n",
    "(NB: interactive plotting may be *sloooow* for large time windows!)"
   ]
  },
  {
   "cell_type": "code",
   "execution_count": null,
   "metadata": {},
   "outputs": [],
   "source": [
    "Nyears = int(run_config['Nyears'])\n",
    "weather_year_start = int(run_config['weather_year_start'])\n",
    "weather_year_end = weather_year_start + (Nyears - 1)\n",
    "\n",
    "plt_start = F\"{weather_year_start}-01-01\"\n",
    "plt_stop = F\"{weather_year_end}-12-31\""
   ]
  },
  {
   "cell_type": "markdown",
   "metadata": {},
   "source": [
    "### Define consistent colours for specific timeseries variables"
   ]
  },
  {
   "cell_type": "code",
   "execution_count": null,
   "metadata": {},
   "outputs": [],
   "source": [
    "# matplotlib named colors:\n",
    "# https://matplotlib.org/3.1.0/gallery/color/named_colors.html\n",
    "colors = {\n",
    "    'ASHP' : 'maroon',\n",
    "    'BEV' : 'purple',\n",
    "    'CO2_atm_store' : 'red',\n",
    "    'CO2_conc_store' : 'green',\n",
    "    'DAC' : 'darkslategrey',\n",
    "    'FT' : 'mediumpurple',\n",
    "    'FCEV' : 'yellow',\n",
    "    'H2 CCGT' : 'red',\n",
    "    'H2 OCGT' : 'pink',\n",
    "    'H2 electrolysis' : 'magenta',\n",
    "    'H2 store' : 'green',\n",
    "    'H2 store to bus' : 'green',\n",
    "    'H2 store from bus' : 'green',\n",
    "    'H2_boiler' : 'rosybrown',\n",
    "    'Links p_gain (HP RE)' : 'yellow',\n",
    "    'Links p_loss' : 'yellow',\n",
    "    'Links p_load (DAC)' : 'darkslategrey',\n",
    "    'Storage charge' : 'green',\n",
    "    'Storage discharge' : 'green',\n",
    "    'battery charge' : 'gray',\n",
    "    'battery discharge' : 'gray',\n",
    "    'battery storage' : 'gray',\n",
    "    'ic-export' : 'green',\n",
    "    'ic-import' : 'green',\n",
    "    'lo-temp-heat-demand' : 'aqua',\n",
    "    'local-elec-demand' : 'black',\n",
    "    'local-elec-demand' : 'black',\n",
    "    'nuclear-SMR' : 'aqua', \n",
    "    'offshore wind' : 'cornflowerblue',\n",
    "    'onshore wind' : 'royalblue', \n",
    "    'remote-elec-grid-buffer' : 'magenta',\n",
    "    'solar' : 'yellow', \n",
    "    'surface-transport-demand' : 'aqua',\n",
    "    'air-transport-demand' : 'rosybrown'\n",
    "}\n"
   ]
  },
  {
   "cell_type": "markdown",
   "metadata": {},
   "source": [
    "### System-wide energy \"balance\"\n",
    "\n",
    "Here we separate all \"primary\" energy sources (pypsa `Generators`), all \"final\" energy consumption (pypsa `Loads`, plus any designated \"load\" element associated with `Links` - currently only DAC), instanteous aggregate flow to/from storage (charge/discharge), and \"losses\". In this system, losses only arise in certain `Links`..."
   ]
  },
  {
   "cell_type": "code",
   "execution_count": null,
   "metadata": {},
   "outputs": [],
   "source": [
    "# Exclude non-energy (CO2!) store flows\n",
    "store_p = network.stores_t.p.drop(['CO2_atm_store','CO2_conc_store'],axis='columns')\n",
    "# Calculate instantaneous aggregate flow in/out of storage (charge/discharge)\n",
    "store_flow = store_p.sum(axis='columns')\n",
    "#display(store_flow)\n",
    "store_discharge = store_flow.clip(lower=0.0).rename('Storage discharge')\n",
    "#display(store_discharge)\n",
    "store_charge = store_flow.clip(upper=0.0).rename('Storage charge')\n",
    "#display(store_charge)\n",
    "\n",
    "links_p_gain = network.links_t.p_gain.sum(axis='columns').rename('Links p_gain (HP RE)')\n",
    "#display(links_p_gain)\n",
    "links_p_loss = network.links_t.p_loss.sum(axis='columns').rename('Links p_loss')\n",
    "#display(links_p_loss)\n",
    "links_p_load = network.links_t.p_load.sum(axis='columns').rename('Links p_load (DAC)') \n",
    "#display(links_p_load)\n",
    "\n",
    "positive = pd.concat(\n",
    "    [network.generators_t.p, links_p_gain, store_discharge],\n",
    "    axis='columns').round(10) # pd.DataFrame\n",
    "#display(positive)   \n",
    "\n",
    "negative = pd.concat(\n",
    "    [-network.loads_t.p, -links_p_load, links_p_loss, store_charge],\n",
    "    axis='columns').round(10) # pd.DataFrame\n",
    "#display(negative)"
   ]
  },
  {
   "cell_type": "code",
   "execution_count": null,
   "metadata": {},
   "outputs": [],
   "source": [
    "# System *must* now \"balance\"!?\n",
    "balance = positive.sum(axis=1) + negative.sum(axis=1) # MW\n",
    "#display(balance)\n",
    "#display(balance.max())\n",
    "#display(balance.min())\n",
    "\n",
    "assert(abs(balance<0.1).all()) # MW"
   ]
  },
  {
   "cell_type": "code",
   "execution_count": null,
   "metadata": {},
   "outputs": [],
   "source": [
    "import matplotlib.pyplot as plt\n",
    "\n",
    "# For non-interactive plots use this magic:\n",
    "#%matplotlib inline\n",
    "# Set plotsize in notebook\n",
    "# https://www.mikulskibartosz.name/how-to-change-plot-size-in-jupyter-notebook/\n",
    "#plt.rcParams[\"figure.figsize\"] = (16,8)\n",
    "\n",
    "# For interactive plots use this magic (REQUIRES ipympl package installed!):\n",
    "%matplotlib widget \n",
    "plt.rcParams[\"figure.figsize\"] = (8,4)\n",
    "\n",
    "fig, ax = plt.subplots()\n",
    "\n",
    "positive_max=positive.sum(axis=1).max()\n",
    "negative_min=negative.sum(axis=1).min()\n",
    "\n",
    "#print([load_max,demand_max,gen_max])\n",
    "\n",
    "# Set y_lim top extra large (*2.5) to make space for the legend...\n",
    "positive.loc[plt_start:plt_stop].plot(kind=\"area\",stacked=True,ax=ax,linewidth=0,\n",
    "                            ylim=(1.2*negative_min, 2.5*positive_max),\n",
    "                            color=[colors[i] for i in positive.columns])\n",
    "\n",
    "negative.loc[plt_start:plt_stop].plot(kind=\"area\",stacked=True,ax=ax,linewidth=0,\n",
    "                           ylim=(1.2*negative_min, 2.5*positive_max),\n",
    "                            color=[colors[i] for i in negative.columns])\n",
    "\n",
    "#ax.set_ylim(1.2*demand_max, 2.0*gen_max)\n",
    "#ax.set_xlim([plt_start,plt_stop])\n",
    "ax.set_ylabel(\"System balance (inflow is +ve, outflow/loss is -ve) [MW]\")\n",
    "ax.legend(ncol=3,loc=\"upper left\")\n",
    "\n",
    "#fig.tight_layout()\n",
    "#fig.savefig(\"img/{}-{}-{}-{}.png\".format(ct,scenario,start,stop),dpi=100)"
   ]
  },
  {
   "cell_type": "markdown",
   "metadata": {},
   "source": [
    "### Balance at bus: `local_elec_grid` "
   ]
  },
  {
   "cell_type": "code",
   "execution_count": null,
   "metadata": {},
   "outputs": [],
   "source": [
    "gens = [\"nuclear-SMR\", \"onshore wind\", \"offshore wind\", \"solar\"]\n",
    "loads = [\"local-elec-demand\"]\n",
    "in_links = [\"ic-import\", \"H2 CCGT\", \"H2 OCGT\",\"battery discharge\"]\n",
    "out_links = [\"ic-export\", \"battery charge\", \"H2 electrolysis\", \"BEV\", \"ASHP\", \"DAC\"]\n",
    "\n",
    "positive = pd.concat((network.generators_t.p[gens],\n",
    "                      -network.links_t.p1[in_links]),\n",
    "                     axis=1).round(10)\n",
    "negative = pd.concat((-network.loads_t.p[loads],\n",
    "                      -network.links_t.p0[out_links]),\n",
    "                     axis=1).round(10)"
   ]
  },
  {
   "cell_type": "code",
   "execution_count": null,
   "metadata": {},
   "outputs": [],
   "source": [
    "# bus must balance instantaneously!\n",
    "balance = positive.sum(axis=1) + negative.sum(axis=1)\n",
    "#display(balance)\n",
    "#display(balance.max())\n",
    "#display(balance.min())\n",
    "\n",
    "assert(abs(balance<0.1).all()) # MW"
   ]
  },
  {
   "cell_type": "code",
   "execution_count": null,
   "metadata": {},
   "outputs": [],
   "source": [
    "import matplotlib.pyplot as plt\n",
    "\n",
    "# For non-interactive plots use this magic:\n",
    "#%matplotlib inline\n",
    "# Set plotsize in notebook\n",
    "# https://www.mikulskibartosz.name/how-to-change-plot-size-in-jupyter-notebook/\n",
    "#plt.rcParams[\"figure.figsize\"] = (16,8)\n",
    "\n",
    "# For interactive plots use this magic (REQUIRES ipympl package installed!):\n",
    "%matplotlib widget \n",
    "plt.rcParams[\"figure.figsize\"] = (8,4)\n",
    "\n",
    "fig, ax = plt.subplots()\n",
    "\n",
    "positive_max=positive.sum(axis='columns').max() # pd.Dataframe\n",
    "negative_min=negative.sum(axis='columns').min() # pd.Dataframe\n",
    "\n",
    "# Set y_lim top extra large (*2.5) to make space for the legend...\n",
    "positive.loc[plt_start:plt_stop].plot(kind=\"area\",stacked=True,ax=ax,linewidth=0,\n",
    "                            ylim=(1.2*negative_min, 2.5*positive_max),\n",
    "                            color=[colors[i] for i in positive.columns])\n",
    "\n",
    "negative.loc[plt_start:plt_stop].plot(kind=\"area\",stacked=True,ax=ax,linewidth=0,\n",
    "                           ylim=(1.2*negative_min, 2.5*positive_max),\n",
    "                            color=[colors[i] for i in negative.columns])\n",
    "\n",
    "#ax.set_ylim(1.2*demand_max, 2.0*gen_max)\n",
    "#ax.set_xlim([plt_start,plt_stop])\n",
    "ax.set_ylabel(\"Dispatch (generation is +ve, demand is -ve) [MW]\")\n",
    "ax.legend(ncol=3,loc=\"upper left\")\n",
    "\n",
    "#fig.tight_layout()\n",
    "#fig.savefig(\"img/{}-{}-{}-{}.png\".format(ct,scenario,start,stop),dpi=100)"
   ]
  },
  {
   "cell_type": "markdown",
   "metadata": {},
   "source": [
    "### Balance at bus: `surface_transport_final` \n"
   ]
  },
  {
   "cell_type": "code",
   "execution_count": null,
   "metadata": {},
   "outputs": [],
   "source": [
    "positive = -network.links_t.p1[[\"BEV\",\"FCEV\"]].round(10) # pd.Dataframe\n",
    "#display(positive)\n",
    "        \n",
    "negative = -network.loads_t.p['surface-transport-demand'].round(10) # pd.Series\n",
    "#display(negative_load)"
   ]
  },
  {
   "cell_type": "code",
   "execution_count": null,
   "metadata": {},
   "outputs": [],
   "source": [
    "# bus must balance instantaneously!\n",
    "balance = positive.sum(axis=1) + negative\n",
    "#display(balance)\n",
    "#display(balance.max())\n",
    "#display(balance.min())\n",
    "\n",
    "assert(abs(balance<0.1).all()) # MW"
   ]
  },
  {
   "cell_type": "code",
   "execution_count": null,
   "metadata": {},
   "outputs": [],
   "source": [
    "import matplotlib.pyplot as plt\n",
    "\n",
    "# For non-interactive plots use this magic:\n",
    "#%matplotlib inline\n",
    "# Set plotsize in notebook\n",
    "# https://www.mikulskibartosz.name/how-to-change-plot-size-in-jupyter-notebook/\n",
    "#plt.rcParams[\"figure.figsize\"] = (16,8)\n",
    "\n",
    "# For interactive plots use this magic (REQUIRES ipympl package installed!):\n",
    "%matplotlib widget \n",
    "plt.rcParams[\"figure.figsize\"] = (8,4) \n",
    "\n",
    "fig, ax = plt.subplots()\n",
    "\n",
    "# Set y_lim top extra large (*2.5) to make space for the legend...\n",
    "\n",
    "positive_max=positive.sum(axis='columns').max() # pd.Dataframe\n",
    "negative_min=negative.min() # pd.Series\n",
    "\n",
    "positive.loc[plt_start:plt_stop].plot(kind=\"area\",stacked=True,ax=ax,linewidth=0,\n",
    "                            ylim=(1.2*negative_min, 2.5*positive_max),\n",
    "                            color=[colors[i] for i in positive.columns])\n",
    "\n",
    "negative.loc[plt_start:plt_stop].plot(kind=\"area\",stacked=True,ax=ax,linewidth=0,\n",
    "                           ylim=(1.2*negative_min, 2.5*positive_max),\n",
    "                            color=colors['surface-transport-demand'])\n",
    "\n",
    "ax.set_ylabel(\"Surface Transport [MW]\")\n",
    "ax.legend(ncol=3,loc=\"upper left\")\n",
    "\n",
    "#fig.tight_layout()\n",
    "#fig.savefig(\"img/{}-{}-{}-{}.png\".format(ct,scenario,start,stop),dpi=100)"
   ]
  },
  {
   "cell_type": "markdown",
   "metadata": {},
   "source": [
    "### Balance at bus: `lo_temp_heat` \n"
   ]
  },
  {
   "cell_type": "code",
   "execution_count": null,
   "metadata": {},
   "outputs": [],
   "source": [
    "positive = -network.links_t.p1[[\"ASHP\",\"H2_boiler\"]].round(10) # pd.Dataframe\n",
    "#display(positive)\n",
    "        \n",
    "negative = -network.loads_t.p['lo-temp-heat-demand'].round(10) # pd.Series\n",
    "#display(negative)"
   ]
  },
  {
   "cell_type": "code",
   "execution_count": null,
   "metadata": {},
   "outputs": [],
   "source": [
    "# bus must balance instantaneously!\n",
    "balance = positive.sum(axis=1) + negative\n",
    "#display(balance)\n",
    "#display(balance.max())\n",
    "#display(balance.min())\n",
    "\n",
    "assert(abs(balance<0.1).all()) # MW"
   ]
  },
  {
   "cell_type": "code",
   "execution_count": null,
   "metadata": {},
   "outputs": [],
   "source": [
    "import matplotlib.pyplot as plt\n",
    "\n",
    "# For non-interactive plots use this magic:\n",
    "#%matplotlib inline\n",
    "# Set plotsize in notebook\n",
    "# https://www.mikulskibartosz.name/how-to-change-plot-size-in-jupyter-notebook/\n",
    "#plt.rcParams[\"figure.figsize\"] = (16,8)\n",
    "\n",
    "# For interactive plots use this magic (REQUIRES ipympl package installed!):\n",
    "%matplotlib widget \n",
    "plt.rcParams[\"figure.figsize\"] = (8,4)\n",
    "\n",
    "fig, ax = plt.subplots()\n",
    "\n",
    "# Set y_lim top extra large (*2.5) to make space for the legend...\n",
    "\n",
    "positive_max=positive.sum(axis='columns').max() # pd.Dataframe\n",
    "negative_min=negative.min() # pd.Series\n",
    "\n",
    "positive.loc[plt_start:plt_stop].plot(kind=\"area\",stacked=True,ax=ax,linewidth=0,\n",
    "                            ylim=(1.2*negative_min, 2.5*positive_max),\n",
    "                            color=[colors[i] for i in positive.columns])\n",
    "\n",
    "negative.loc[plt_start:plt_stop].plot(kind=\"area\",stacked=True,ax=ax,linewidth=0,\n",
    "                           ylim=(1.2*negative_min, 2.5*positive_max),\n",
    "                            color=[colors[negative.name]])\n",
    "\n",
    "ax.set_ylabel(\"Low temperature heat [MW]\")\n",
    "ax.legend(ncol=3,loc=\"upper left\")\n",
    "\n",
    "#fig.tight_layout()\n",
    "#fig.savefig(\"img/{}-{}-{}-{}.png\".format(ct,scenario,start,stop),dpi=100)"
   ]
  },
  {
   "cell_type": "markdown",
   "metadata": {},
   "source": [
    "### Balance at bus: `H2` \n"
   ]
  },
  {
   "cell_type": "code",
   "execution_count": null,
   "metadata": {},
   "outputs": [],
   "source": [
    "store_flow = network.stores_t.p[\"H2 store\"]\n",
    "#display(store_flow)\n",
    "store_flow_to_bus = store_flow.clip(lower=0.0).rename(\"H2 store to bus\")\n",
    "#display(store_flow_to_bus)\n",
    "store_flow_from_bus = store_flow.clip(upper=0.0).rename(\"H2 store from bus\")\n",
    "#display(store_flow_from_bus)\n",
    "\n",
    "positive = pd.concat(\n",
    "    [-network.links_t.p1[\"H2 electrolysis\"].round(10),\n",
    "    store_flow_to_bus.round(10)],axis='columns') # pd.DataFrame\n",
    "#display(positive)   \n",
    "\n",
    "negative = pd.concat(\n",
    "    [-network.links_t.p0[[ \"FCEV\", \"H2 CCGT\", \"H2 OCGT\", \"H2_boiler\", \"FT\"]].round(10),\n",
    "    store_flow_from_bus.round(1)],axis='columns') # pd.DataFrame\n",
    "#display(negative)"
   ]
  },
  {
   "cell_type": "code",
   "execution_count": null,
   "metadata": {},
   "outputs": [],
   "source": [
    "# bus must balance instantaneously!\n",
    "balance = positive.sum(axis=1) + negative.sum(axis=1)\n",
    "#display(balance)\n",
    "#display(balance.max())\n",
    "#display(balance.min())\n",
    "\n",
    "assert(abs(balance<0.1).all()) # MW"
   ]
  },
  {
   "cell_type": "code",
   "execution_count": null,
   "metadata": {},
   "outputs": [],
   "source": [
    "import matplotlib.pyplot as plt\n",
    "\n",
    "# For non-interactive plots use this magic:\n",
    "#%matplotlib inline\n",
    "# Set plotsize in notebook\n",
    "# https://www.mikulskibartosz.name/how-to-change-plot-size-in-jupyter-notebook/\n",
    "#plt.rcParams[\"figure.figsize\"] = (16,8)\n",
    "\n",
    "# For interactive plots use this magic (REQUIRES ipympl package installed!):\n",
    "%matplotlib widget \n",
    "plt.rcParams[\"figure.figsize\"] = (8,4)\n",
    "\n",
    "fig, ax = plt.subplots()\n",
    "\n",
    "# Set y_lim top extra large (*2.5) to make space for the legend...\n",
    "\n",
    "positive_max=positive.sum(axis='columns').max() # pd.Dataframe\n",
    "negative_min=negative.sum(axis='columns').min() # pd.Series\n",
    "\n",
    "positive.loc[plt_start:plt_stop].plot(kind=\"area\",stacked=True,ax=ax,linewidth=0,\n",
    "                            ylim=(1.2*negative_min, 2.5*positive_max),\n",
    "                            color=[colors[i] for i in positive.columns])\n",
    "\n",
    "negative.loc[plt_start:plt_stop].plot(kind=\"area\",stacked=True,ax=ax,linewidth=0,\n",
    "                           ylim=(1.2*negative_min, 2.5*positive_max),\n",
    "                            color=[colors[i] for i in negative.columns])\n",
    "\n",
    "ax.set_ylabel(\"Low temperature heat [MW]\")\n",
    "ax.legend(ncol=3,loc=\"upper left\")\n",
    "\n",
    "#fig.tight_layout()\n",
    "#fig.savefig(\"img/{}-{}-{}-{}.png\".format(ct,scenario,start,stop),dpi=100)"
   ]
  },
  {
   "cell_type": "markdown",
   "metadata": {},
   "source": [
    "### Energy levels in Store components "
   ]
  },
  {
   "cell_type": "code",
   "execution_count": null,
   "metadata": {},
   "outputs": [],
   "source": [
    "import matplotlib.pyplot as plt\n",
    "\n",
    "# For non-interactive plots use this magic:\n",
    "%matplotlib inline\n",
    "# Set plotsize in notebook\n",
    "# https://www.mikulskibartosz.name/how-to-change-plot-size-in-jupyter-notebook/\n",
    "plt.rcParams[\"figure.figsize\"] = (16,8)\n",
    "\n",
    "# For interactive plots use this magic (REQUIRES ipympl package installed!):\n",
    "#%matplotlib widget \n",
    "\n",
    "fig, ax = plt.subplots()\n",
    "\n",
    "storage = network.stores_t.e[[\"remote-elec-grid-buffer\",\"H2 store\",\n",
    "                              \"battery storage\"]].round(10)\n",
    "#display(storage)\n",
    "\n",
    "storage.loc[plt_start:plt_stop].plot(kind=\"line\",stacked=True,ax=ax,linewidth=1,\n",
    "                              color=[colors[i] for i in storage.columns])\n",
    "\n",
    "e_max = storage.sum(axis=1).max()\n",
    "e_min = storage.sum(axis=1).min()\n",
    "\n",
    "#ax.set_ylim([demand_max,gen_max])\n",
    "#print([demand_max,gen_max])\n",
    "ax.set_ylim([0.0, 1.2*e_max])\n",
    "ax.set_xlim([plt_start,plt_stop])\n",
    "ax.set_ylabel(\"Storage [MWh]\")\n",
    "ax.legend(ncol=3,loc=\"upper left\")\n",
    "\n",
    "fig.tight_layout()\n",
    "\n",
    "#fig.savefig(\"img/{}-{}-{}-{}.png\".format(ct,scenario,start,stop),dpi=100)"
   ]
  },
  {
   "cell_type": "markdown",
   "metadata": {},
   "source": [
    "### CO$_2$ levels in Store components "
   ]
  },
  {
   "cell_type": "code",
   "execution_count": null,
   "metadata": {},
   "outputs": [],
   "source": [
    "import matplotlib.pyplot as plt\n",
    "\n",
    "# For non-interactive plots use this magic:\n",
    "%matplotlib inline\n",
    "# Set plotsize in notebook\n",
    "# https://www.mikulskibartosz.name/how-to-change-plot-size-in-jupyter-notebook/\n",
    "plt.rcParams[\"figure.figsize\"] = (16,8)\n",
    "\n",
    "# For interactive plots use this magic (REQUIRES ipympl package installed!):\n",
    "#%matplotlib widget \n",
    "\n",
    "fig, ax = plt.subplots()\n",
    "\n",
    "storage = network.stores_t.e[[\"CO2_atm_store\",\n",
    "                              \"CO2_conc_store\"]]\n",
    "#display(storage)\n",
    "\n",
    "storage.loc[plt_start:plt_stop].plot(kind=\"line\",ax=ax,linewidth=1,\n",
    "                              color=[colors[i] for i in storage.columns])\n",
    "\n",
    "e_max = storage.max().sum()\n",
    "#display(e_max)\n",
    "e_min = storage.min().sum()\n",
    "#display(e_min)\n",
    "\n",
    "#ax.set_ylim([demand_max,gen_max])\n",
    "#print([demand_max,gen_max])\n",
    "ax.set_ylim([e_min, 1.2*e_max])\n",
    "ax.set_xlim([plt_start,plt_stop])\n",
    "ax.set_ylabel(\"Storage [tCO2]\")\n",
    "ax.legend(ncol=3,loc=\"upper left\")\n",
    "\n",
    "fig.tight_layout()\n",
    "\n",
    "#fig.savefig(\"img/{}-{}-{}-{}.png\".format(ct,scenario,start,stop),dpi=100)"
   ]
  },
  {
   "cell_type": "markdown",
   "metadata": {},
   "source": [
    "## Dump (volatile) run data to (persistent) file storage (just in case...)\n"
   ]
  },
  {
   "cell_type": "code",
   "execution_count": null,
   "metadata": {},
   "outputs": [],
   "source": [
    "run_id = 'scratch' # Tailor this as desired!\n",
    "run_dir='runs/single-run/'+run_id\n",
    "os.makedirs(run_dir,exist_ok=True)\n",
    "\n",
    "#network.export_to_netcdf(run_dir+'/network.nc') # Uncomment to save all network object data\n",
    "run_config_series=pd.Series(run_config, dtype=object, name=run_id)\n",
    "run_config_df=run_config_series.to_frame().transpose()\n",
    "run_config_df.to_excel(run_dir+'/run_config.ods')\n",
    "run_stats.to_excel(run_dir+'/run_stats.ods')"
   ]
  },
  {
   "cell_type": "markdown",
   "metadata": {},
   "source": [
    "## \\<scratchpad\\>\n",
    "\n",
    "**Delete before public release!**"
   ]
  },
  {
   "cell_type": "code",
   "execution_count": null,
   "metadata": {},
   "outputs": [],
   "source": [
    "mwhr_per_gj = 0.2778 # https://www.seai.ie/data-and-insights/seai-statistics/conversion-factors/\n",
    "mwhr_per_mj = mwhr_per_gj / 1.0e3\n",
    "syn_fuel_mj_per_kg = 44.0 # https://en.wikipedia.org/wiki/Aviation_fuel#Energy_content\n",
    "syn_fuel_mj_per_t = syn_fuel_mj_per_kg * 1.0e3\n",
    "syn_fuel_mwh_per_t = syn_fuel_mj_per_t * mwhr_per_mj\n",
    "print(F'syn_fuel_mwh_per_t: {syn_fuel_mwh_per_t:6.2f}')\n",
    "\n",
    "syn_fuel_shadow_price_per_mwh = 540.93 # €/MWh\n",
    "syn_fuel_shadow_price_per_t = syn_fuel_shadow_price_per_mwh*syn_fuel_mwh_per_t\n",
    "print(F'syn_fuel_shadow_price_per_t: {syn_fuel_shadow_price_per_t:6.0f}')\n",
    "\n",
    "# vs Jan 2021 conventional jet fuel price (exc. taxes) ~ US$467/t??\n",
    "jet_fuel_price_2021_per_t = 467.0*run_config['usd_to_eur']\n",
    "print(F'jet_fuel_price_2021_per_t: {jet_fuel_price_2021_per_t:6.0f}')\n",
    "syn_fuel_price_multiplier = syn_fuel_shadow_price_per_t/jet_fuel_price_2021_per_t\n",
    "print(F'syn_fuel_price_multiplier: {syn_fuel_price_multiplier:6.0f}')\n"
   ]
  },
  {
   "cell_type": "code",
   "execution_count": null,
   "metadata": {},
   "outputs": [],
   "source": [
    "display(network.links_t.p2['Aircraft'])"
   ]
  },
  {
   "cell_type": "code",
   "execution_count": null,
   "metadata": {},
   "outputs": [],
   "source": [
    "display(network.links_t.p2['DAC'])"
   ]
  },
  {
   "cell_type": "code",
   "execution_count": null,
   "metadata": {},
   "outputs": [],
   "source": [
    "display(network.stores_t.p['CO2_atm_store'])"
   ]
  },
  {
   "cell_type": "code",
   "execution_count": null,
   "metadata": {},
   "outputs": [],
   "source": [
    "display(network.stores_t.p['syn_fuel_store'])"
   ]
  },
  {
   "cell_type": "code",
   "execution_count": null,
   "metadata": {},
   "outputs": [],
   "source": [
    "display(network.stores_t.e['syn_fuel_store'])"
   ]
  },
  {
   "cell_type": "code",
   "execution_count": null,
   "metadata": {},
   "outputs": [],
   "source": [
    "display(network.stores.loc['syn_fuel_store',:])"
   ]
  },
  {
   "cell_type": "markdown",
   "metadata": {},
   "source": [
    "## \\</scratchpad\\>"
   ]
  }
 ],
 "metadata": {
  "kernelspec": {
   "display_name": "Python 3",
   "language": "python",
   "name": "python3"
  },
  "language_info": {
   "codemirror_mode": {
    "name": "ipython",
    "version": 3
   },
   "file_extension": ".py",
   "mimetype": "text/x-python",
   "name": "python",
   "nbconvert_exporter": "python",
   "pygments_lexer": "ipython3",
   "version": "3.7.8"
  }
 },
 "nbformat": 4,
 "nbformat_minor": 4
}
