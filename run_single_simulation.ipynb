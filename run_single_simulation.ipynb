{
 "cells": [
  {
   "cell_type": "markdown",
   "metadata": {},
   "source": [
    "# WHOBS-IE-100\n",
    "## Notionally Optimal, 100% Wind+Hydrogen+Other+Battery+Solar Electricity System for Ireland (IE)\n",
    "\n",
    "- **Project:** [OESM-IE](http://ecrn.eeng.dcu.ie/projects/oesm-ie)\n",
    "- **Funding:** [Sustainable Energy Authority of Ireland (SEAI) Research, Development and Demonstration Programme](https://www.seai.ie/grants/research-funding/research-development-and-demonstration-fund/), award reference SEAI RDD/00246 2018.\n",
    "- **Author:** Barry McMullin, barry.mcmullin@dcu.ie\n",
    "- **Last modified:** 27 May 2020\n",
    "- **© 2020:** [Dublin City University](http://www.dcu.ie/)\n",
    "- **Licence:** [GNU GENERAL PUBLIC LICENSE Version 3](https://www.gnu.org/licenses/gpl-3.0.en.html)\n",
    "\n",
    "This is a derived from: [Optimal Wind+Hydrogen+Other+Battery+Solar (WHOBS) electricity systems for European countries](https://github.com/PyPSA/WHOBS)\n",
    "\n",
    "Download the [Jupyter notebook](https://jupyter.org/) at: **TODO**\n"
   ]
  },
  {
   "cell_type": "markdown",
   "metadata": {},
   "source": [
    "## Introduction/motivation\n",
    "\n",
    "[WHOBS](https://github.com/PyPSA/WHOBS), and the associated interactive web application [model.energy](https://model.energy/), allows modelling of notionally optimised \"firm\" electricity generation for a given level of (constant/\"baseload\") capacity, based exclusively on *variable* renewable (VRE: here limited to wind and solar) sources, coupled with hydrogen and/or battery storage (to cover \"when the wind doesn't blow and the sun doesn't shine\"). \n",
    "\n",
    "Wind and solar resource variability is configured for states within Europe using historical data from [Renewables.ninja](https://www.renewables.ninja/) ([model.energy](https://model.energy/) extends this coverage to global geographical locations using other data sources).\n",
    "\n",
    "**WHOBS-IE-100** adapts WHOBS to model delivery of **100%** of electricity demand for one particular European country (**Ireland**), based on [historical load data](http://www.eirgridgroup.com/how-the-grid-works/renewables/) from the [Irish Transmission System Operator (TSO) eirgrid](http://www.eirgridgroup.com/).\n",
    "\n",
    "This result illustrates the (rough) trade-off between:\n",
    "\n",
    "- Raw VRE *overprovision* (building more VRE capacity than can be directly dispatched at all times, but meaning that more demand can be covered directly by instantaneous VRE generations)\n",
    "- Dispatch down (discarding some generation when it is in excess of instantaneous load)\n",
    "- Storage (storing some generation when it is in excess of instantaneous load)\n",
    "    - Short term, high efficiency storage: battery\n",
    "    - Long term, low efficiency storage: hydrogen\n",
    "\n",
    "This toy model assumes a completely isolated grid (no external interconnection).\n"
   ]
  },
  {
   "cell_type": "markdown",
   "metadata": {},
   "source": [
    "## TODO\n",
    "\n",
    "+ Create/release as github project: add link in metadata block at top?\n",
    "+ Link to the [detailed caveats in the WHOBS README](https://github.com/PyPSA/WHOBS#warnings).\n",
    "+ Add more cautions/, including:\n",
    "    - *multi-annual* variability in generation and load\n",
    "    - constraint as well as curtailment \n",
    "    - system stability (traditional SNSP!) \n",
    "    - onshore wind only (offshore would be less variable but generally still more expensive)\n",
    "    - limited/no salt cavern storage within the IE jurisdiction (there is some in NI, but [currently targetted for NG storage!](https://www.infrastrataplc.com/projects/islandmagee-energy/)\n",
    "    - unclear whether the proposed (solved) wind and solar capacity is even feasible within the jurisdiction\n",
    "    - certain \"low carbon\", \"firm\" generation sources are deliberately omitted: nuclear, fossil fuel with CCS and bioenergy: it is likely that a (near) zero-$CO_2$ system could be achieved at lower cost by allowing such a wider range of options\n",
    "    - etc. etc...\n",
    "+ Batteries are allowed a tech-generic lifetime of 25 years (in assumptions .csv) - which seems a bit generous? Though may not change the results all that much...\n",
    "+ Add some (simplistic) model of interconnection: e.g. as a `StorageUnit` with `cyclic=True`, fixed `p_nom`, efficiency somewhat reflective of real IC losses (to UK/France). This is easier than trying to pick a price for a market import/export model (though it excludes nett exports as a trade opportunity...). Skates over the NI integration connection, which arguably deserves finer grained representation (given similar wind var profile).\n",
    "+ Add some representation of offshore wind as well as onshore; set `p_nom_extendable_max` for onshore, based on actual SEAI estimates. Note that offshore variability pattern is expected to be different from onshore (potential high capacity factor, absent dispatch down).\n",
    "+ Add some notional representation of grid losses (matching typical SEAI/Eirgrid levels?).\n",
    "+ Add some crude capability of changing average load level for target year (linear, exponential, whatever...)\n",
    "+ Add more flexible options on temporal resolution - not just 1 or 3 hours, but 6, 12, 24 hours?\n",
    "+ Add H2P OCGT (as well as CCGT)? Let `lopf()` optimise between OCGT and CCGT (will it all go to one?).\n",
    "+ Instead of a H2 steel tank storage being binary, leave it available unconditionally, but (optionally) set an `e_extendable_max` limit on H2 salt cavern storage (possibly loosely based on actual geology available in NI).\n",
    "+ Add a \"middle tier\" H2 storage option (between steel tank and salt cavern): [loosely based on ammonia tank storage](https://ammoniaindustry.com/ammonia-for-energy-storage-economic-and-technical-analysis/)?\n",
    "+ Of course, extending into heating and transport sectors is also on the agenda!\n",
    "+ Refactor the \"scenario\" concept:\n",
    "    - Incorporate `frequency` (properly, `time_resolution` or `time_step`?).\n",
    "    - Incorporate dispatch priority among VRE (solar/wind) as a scenario variable\n",
    "    - Currently \"hydrogen\" and \"hydrogen steel tank\" are effectively boolean scenario variables, though not expressly incorporated in the scenario mechanism/naming. Maybe make \"all\" the discrete technologies boolean in this sense, with a scenario tech substring something like: `WSHTB` (Wind|Solar|H2|Tank|Battery)?\n",
    "    - Refactor so that generic `network` only constructed once, and then specific details varied by scenario; should yield a little performance improvement/responsivity...\n",
    "+ Possibly refactor to remove the `ct` (\"country\"?) use? This is inherited from WHOBS, which genuinely has configuration capability for a variety of countries; but WHOBS-IE-100 really is hard-wired already for IE?\n",
    "+ Figure out/refactor exactly the way the plotting works...\n",
    "+ Refactor the import of third-party data files (Renewables.ninja and Eirgrid) to automate, with local caching...\n",
    "+ Create a single line diagram illustration (SLD)\n",
    "+ Screencast tutorial/explanation?\n"
   ]
  },
  {
   "cell_type": "code",
   "execution_count": null,
   "metadata": {},
   "outputs": [],
   "source": [
    "import pypsa\n",
    "\n",
    "import pandas as pd\n",
    "\n",
    "idx = pd.IndexSlice\n",
    "\n",
    "import matplotlib.pyplot as plt\n",
    "\n",
    "from pyomo.environ import Constraint\n",
    "\n",
    "%matplotlib inline"
   ]
  },
  {
   "cell_type": "code",
   "execution_count": null,
   "metadata": {},
   "outputs": [],
   "source": [
    "# Set plotsize in notebook\n",
    "# https://www.mikulskibartosz.name/how-to-change-plot-size-in-jupyter-notebook/\n",
    "plt.rcParams[\"figure.figsize\"] = (12,6) "
   ]
  },
  {
   "cell_type": "markdown",
   "metadata": {},
   "source": [
    "## Major configuration settings"
   ]
  },
  {
   "cell_type": "code",
   "execution_count": null,
   "metadata": {},
   "outputs": [],
   "source": [
    "add_hydrogen = True\n",
    "\n",
    "#years for weather data (solar is 1985-2015 inclusive, wind is 1980-2016)\n",
    "year_start = 2010\n",
    "year_end = 2010\n",
    "\n",
    "#1 is hourly, 3 is 3-hourly\n",
    "frequency = 12\n",
    "\n",
    "#change to cbc or glpk for open-source solvers\n",
    "solver_name = \"cbc\""
   ]
  },
  {
   "cell_type": "markdown",
   "metadata": {},
   "source": [
    "## Required data\n",
    "\n",
    "### Wind and solar resource variabilities\n",
    "\n",
    "From [Renewables.ninja Downloads](https://www.renewables.ninja/downloads):\n",
    "\n",
    "- Solar time series \"ninja_pv_europe_v1.1_sarah.csv\" from [PV v1.1 Europe (.zip)](https://www.renewables.ninja/static/downloads/ninja_europe_pv_v1.1.zip)\n",
    "- Wind time series \"ninja_wind_europe_v1.1_current_on-offshore.csv\" from [Wind v1.1 Europe (.zip)](https://www.renewables.ninja/static/downloads/ninja_europe_wind_v1.1.zip)\n",
    "\n",
    "### IE Load (electricity demand) variability\n",
    "\n",
    "From [eirgrid System and Renewable Data Reports](http://www.eirgridgroup.com/how-the-grid-works/renewables/):\n",
    "\n",
    "- [System-Data-Qtr-Hourly-2018-2019.xlsx](http://www.eirgridgroup.com/site-files/library/EirGrid/System-Data-Qtr-Hourly-2018-2019.xlsx) \n",
    "- [System-Data-Qtr-Hourly-2016-2017.xlsx](http://www.eirgridgroup.com/site-files/library/EirGrid/System-Data-Qtr-Hourly-2016-2017.xlsx)\n",
    "- [System-Data-Qtr-Hourly-2014-2015.xlsx](http://www.eirgridgroup.com/site-files/library/EirGrid/System-Data-Qtr-Hourly-2014-2015.xlsx)\n"
   ]
  },
  {
   "cell_type": "markdown",
   "metadata": {},
   "source": [
    "## Read in wind and solar variability data\n",
    "\n",
    "**TODO:** Ideally, recode this to check for local copy, and, if not available, automatically download \n",
    "and extract the required .csv from the .zip in each case; but for the moment, just assume there is are local copies of the .csv files already available.\n",
    "\n",
    "**TODO:** An alterative to using renewables ninja (specfically for wind) would be to extract the variability data (of actual wind generation) from historical eirgrid data. This would reflect the performance of the IE wind fleet as of whatever historical date was used: which may be a good thing or a bad thing of course (since that is almost 100% onshore for the moment, it is \"biased against\" offshore - arguably?).\n"
   ]
  },
  {
   "cell_type": "code",
   "execution_count": null,
   "metadata": {},
   "outputs": [],
   "source": [
    "#rninja_base_url = \"https://www.renewables.ninja/static/downloads/\"\n",
    "r_ninja_base_url = 'ninja/' # Actually already downloaded..."
   ]
  },
  {
   "cell_type": "code",
   "execution_count": null,
   "metadata": {},
   "outputs": [],
   "source": [
    "#solar_pv_zip_file = 'ninja_europe_pv_v1.1.zip'\n",
    "#solar_pv_zip_url = r_ninja_base_url + solar_pv_zip_file\n",
    "\n",
    "solar_pv_csv_file = 'ninja_pv_europe_v1.1_sarah.csv'\n",
    "solar_pv_csv_url = r_ninja_base_url + solar_pv_csv_file\n",
    "\n",
    "#read in renewables.ninja solar time series\n",
    "solar_pu_raw = pd.read_csv(solar_pv_csv_url,\n",
    "                       index_col=0,parse_dates=True)\n",
    "solar_pu = solar_pu_raw.resample(str(frequency)+\"H\").mean()"
   ]
  },
  {
   "cell_type": "code",
   "execution_count": null,
   "metadata": {},
   "outputs": [],
   "source": [
    "#wind_zip_file = 'ninja_europe_wind_v1.1.zip'\n",
    "#wind_zip_url = r_ninja_base_url + wind_zip_file\n",
    "\n",
    "wind_csv_file = 'ninja_wind_europe_v1.1_current_on-offshore.csv'\n",
    "wind_csv_url = r_ninja_base_url + wind_csv_file\n",
    "\n",
    "#read in renewables.ninja wind time series\n",
    "wind_pu_raw = pd.read_csv(wind_csv_url,\n",
    "                       index_col=0,parse_dates=True)\n",
    "wind_pu = wind_pu_raw.resample(str(frequency)+\"H\").mean()"
   ]
  },
  {
   "cell_type": "markdown",
   "metadata": {},
   "source": [
    "## Read in and preprocess load and generation variability data (via Ireland TSO, [EirGrid](http://www.eirgridgroup.com/))\n",
    "\n",
    "We start with [historical data inputs from EirGrid](http://www.eirgridgroup.com/how-the-grid-works/renewables/) which show 15-minute time series for:\n",
    "\n",
    "- wind availability\n",
    "- wind generation\n",
    "- total generation\n",
    "- total load\n",
    "\n",
    "broken out by:\n",
    "\n",
    "- IE (Republic of Ireland) only\n",
    "- NI (Northern Ireland) only\n",
    "\n",
    "As this particular notebook in only relying on this data for an example of \"typical\" annual variability in aggregate load we select the data for **IE (Republic of Ireland) only**.\n",
    "\n",
    "The data will also be downsampled from 15-minute to hourly-resolution (via simple averaging of each hour)."
   ]
  },
  {
   "cell_type": "code",
   "execution_count": null,
   "metadata": {},
   "outputs": [],
   "source": [
    "# Retrieve example eirgrid system data into a pd.dataframe\n",
    "\n",
    "# If file already available locally, can point at that; otherwise use the web url\n",
    "# (i.e. uncomment one or the other of the following two statements).\n",
    "\n",
    "#eirgrid_base_url = \"http://www.eirgridgroup.com/site-files/library/EirGrid/\"\n",
    "eirgrid_base_url = \"eirgrid/\"\n",
    "\n",
    "load_data_filename = \"System-Data-Qtr-Hourly-2014-2015.xlsx\"\n",
    "load_data_url = eirgrid_base_url + load_data_filename\n",
    "\n",
    "cols = ['DateTime', 'GMT Offset', \"IE Demand\"]\n",
    "\n",
    "load_data_raw = pd.read_excel(load_data_url, usecols = cols)"
   ]
  },
  {
   "cell_type": "code",
   "execution_count": null,
   "metadata": {},
   "outputs": [],
   "source": [
    "#print(load_data_raw.dtypes)\n",
    "print(load_data_raw)"
   ]
  },
  {
   "cell_type": "markdown",
   "metadata": {},
   "source": [
    "## Fix the timestamps...\n",
    "\n",
    "The raw eirgrid data has one column showing localtime (`DateTime`, type `pd.Timestamp`, holding \"naive\" timestamps - no recorded timezone) and a separate column showing the offset, in hours, from UTC for each individual row (`GMT Offset`). It will be simpler here to convert all the `DateTime` values to UTC (and explicitly having the UTC timezone).\n",
    "\n",
    "We can then dispense with the `GMT Offset` column as it is redundant."
   ]
  },
  {
   "cell_type": "code",
   "execution_count": null,
   "metadata": {},
   "outputs": [],
   "source": [
    "from datetime import timedelta\n",
    "\n",
    "def tz_fix(row):\n",
    "  try:\n",
    "    naive_timestamp = row['DateTime']\n",
    "    gmt_offset = row['GMT Offset'] \n",
    "    utc_timestamp = naive_timestamp - timedelta(hours=float(gmt_offset))\n",
    "        # float() conversion required for timedelta() argument!\n",
    "        # Must SUBTRACT the GMT Offset to get GMT/UTC\n",
    "    row['DateTime'] = utc_timestamp.tz_localize('UTC')\n",
    "  except Exception as inst:\n",
    "    print(F\"Exception:\\n {row}\")\n",
    "    print(inst)\n",
    "  return row\n",
    "\n",
    "# This may be rather be slow for a big dataset...\n",
    "load_data_raw = load_data_raw.apply(tz_fix, axis=1).drop(columns='GMT Offset')\n",
    "\n",
    "load_data_raw.set_index('DateTime', verify_integrity=True, inplace=True)"
   ]
  },
  {
   "cell_type": "markdown",
   "metadata": {},
   "source": [
    "## Extract period of interest"
   ]
  },
  {
   "cell_type": "code",
   "execution_count": null,
   "metadata": {},
   "outputs": [],
   "source": [
    "load_data_raw = load_data_raw.loc['2015-01-01 00:00:00+0':'2015-12-31 23:45:00+0']\n",
    "\n",
    "print(load_data_raw)\n",
    "\n",
    "load_raw = load_data_raw.loc[:,'IE Demand'] # convert to pd.Series\n",
    "\n",
    "load_raw_max = load_raw.max()\n",
    "load_raw_mean = load_raw.mean()\n",
    "load_raw_min = load_raw.min()\n",
    "load_raw_e = load_raw.sum()*0.25 # Raw time interval is 15m == 0.25h\n",
    "\n",
    "print(F\"load_raw_max: {(load_raw_max/1.0e3) : 6.3f} GW\")\n",
    "print(F\"load_raw_mean: {(load_raw_mean/1.0e3) : 6.3f} GW\")\n",
    "print(F\"load_raw_min: {(load_raw_min/1.0e3) : 6.3f} GW\")\n",
    "print(F\"load_raw_e: {(load_raw_e/1.0e6) : 6.3f} TWh\")"
   ]
  },
  {
   "cell_type": "markdown",
   "metadata": {},
   "source": [
    "## FIXME! Data quality checks?\n",
    "\n",
    "Before going further, should really do some data quality checks - at least make sure we don't have missing/`NaN` values in the numeric timeseries data? But for now, this omission is just logged for future reference..."
   ]
  },
  {
   "cell_type": "markdown",
   "metadata": {},
   "source": [
    "## Configure the load timeseries\n",
    "\n",
    "This is derived from the IE empirical/historical `Demand`. "
   ]
  },
  {
   "cell_type": "code",
   "execution_count": null,
   "metadata": {},
   "outputs": [],
   "source": [
    "load_data = load_data_raw.resample(str(frequency)+\"H\").mean()\n",
    "\n",
    "load = load_data.loc[:,'IE Demand'] # convert to pd.Series\n",
    "\n",
    "load_max = load.max()\n",
    "load_mean = load.mean()\n",
    "load_min = load.min()\n",
    "load_e = load.sum()*frequency"
   ]
  },
  {
   "cell_type": "code",
   "execution_count": null,
   "metadata": {
    "scrolled": true
   },
   "outputs": [],
   "source": [
    "print(load)\n",
    "\n",
    "print(F\"load_max: {(load_max/1.0e3) : 6.3f} GW\")\n",
    "print(F\"load_mean: {(load_mean/1.0e3) : 6.3f} GW\")\n",
    "print(F\"load_min: {(load_min/1.0e3) : 6.3f} GW\")\n",
    "print(F\"load_e: {(load_e/1.0e6) : 6.3f} TWh\")"
   ]
  },
  {
   "cell_type": "markdown",
   "metadata": {},
   "source": [
    "## Required functions"
   ]
  },
  {
   "cell_type": "code",
   "execution_count": null,
   "metadata": {},
   "outputs": [],
   "source": [
    "# TODO: need some docs/explanation/sources for this calculation?\n",
    "\n",
    "def annuity(lifetime, rate):\n",
    "    if rate == 0.0 :\n",
    "        return 1.0/lifetime\n",
    "    else:\n",
    "        return rate/(1.0 - (1.0 / (1.0 + rate)**lifetime))"
   ]
  },
  {
   "cell_type": "code",
   "execution_count": null,
   "metadata": {},
   "outputs": [],
   "source": [
    "def prepare_assumptions(Nyears=1,usd_to_eur=1/1.2,assumptions_year=2020):\n",
    "    \"\"\"set all asset assumptions and other parameters\"\"\"\n",
    "\n",
    "    assumptions = pd.read_csv(\"assumptions.csv\",index_col=list(range(3))).sort_index()\n",
    "\n",
    "    #correct units to MW and EUR\n",
    "    assumptions.loc[assumptions.unit.str.contains(\"/kW\"),\"value\"]*=1e3\n",
    "    assumptions.loc[assumptions.unit.str.contains(\"USD\"),\"value\"]*=usd_to_eur\n",
    "\n",
    "    assumptions = assumptions.loc[idx[:,assumptions_year,:],\n",
    "                                  \"value\"].unstack(level=2).groupby(level=\"technology\").sum(min_count=1)\n",
    "\n",
    "    #fill defaults\n",
    "    assumptions = assumptions.fillna({\"FOM\" : assumptions.at[\"default\",\"FOM\"],\n",
    "                                      \"discount rate\" : assumptions.at[\"default\",\"discount rate\"],\n",
    "                                      \"lifetime\" : assumptions.at[\"default\",\"lifetime\"]})\n",
    "\n",
    "    #annualise investment costs, add FOM\n",
    "    assumptions[\"fixed\"] = [(annuity(v[\"lifetime\"],v[\"discount rate\"]) + \n",
    "                             v[\"FOM\"]/100.)*v[\"investment\"]*Nyears for i,v in assumptions.iterrows()]\n",
    "\n",
    "    return assumptions"
   ]
  },
  {
   "cell_type": "code",
   "execution_count": null,
   "metadata": {},
   "outputs": [],
   "source": [
    "def solve_network(ct,scenario):\n",
    "\n",
    "    Nyears = year_end - year_start + 1\n",
    "\n",
    "    assumptions_year = int(scenario[:4])\n",
    "\n",
    "    assumptions = prepare_assumptions(Nyears=Nyears,\n",
    "                                      assumptions_year=assumptions_year)\n",
    "\n",
    "    if \"steel_tanks\" in scenario:\n",
    "        assumptions.loc[\"H2 storage\"] = assumptions.loc[\"H2 steel tank storage\"]\n",
    "    else:\n",
    "        assumptions.loc[\"H2 storage\"] = assumptions.loc[\"H2 underground storage\"]\n",
    "\n",
    "\n",
    "    network = pypsa.Network()\n",
    "\n",
    "    snapshots = pd.date_range(\"{}-01-01\".format(year_start),\"{}-12-31 23:00\".format(year_end),\n",
    "                              freq=str(frequency)+\"H\")\n",
    "\n",
    "    network.set_snapshots(snapshots)\n",
    "\n",
    "    network.snapshot_weightings = pd.Series(float(frequency),index=network.snapshots)\n",
    "\n",
    "    network.add(\"Bus\",ct)\n",
    "    network.add(\"Load\",ct,\n",
    "                bus=ct,\n",
    "                p_set= load.values)\n",
    "\n",
    "    network.add(\"Generator\",ct+\" solar\",\n",
    "                bus=ct,\n",
    "                p_max_pu = solar_pu[ct],\n",
    "                p_nom_extendable = True,\n",
    "                marginal_cost = 0.02, \n",
    "                #Small cost to prefer curtailment to destroying energy in storage, wind curtails before solar\n",
    "                capital_cost = assumptions.at['utility solar PV','fixed'],\n",
    "                #p_nom_max = 0.0\n",
    "               )\n",
    "\n",
    "    network.add(\"Generator\",ct+\" wind\",\n",
    "                bus=ct,\n",
    "                p_max_pu = wind_pu[ct+\"_ON\"],\n",
    "                p_nom_extendable = True,\n",
    "                marginal_cost = 0.01, \n",
    "                #Small cost to prefer curtailment to destroying energy in storage, wind curtails before solar\n",
    "                capital_cost = assumptions.at['onshore wind','fixed'])\n",
    "\n",
    "    network.add(\"Bus\",ct + \" battery\")\n",
    "\n",
    "    network.add(\"Store\",ct + \" battery storage\",\n",
    "                bus = ct + \" battery\",\n",
    "                e_nom_extendable = True,\n",
    "                e_cyclic=True,\n",
    "                capital_cost=assumptions.at['battery storage','fixed'])\n",
    "\n",
    "    network.add(\"Link\",ct + \" battery charge\",\n",
    "                bus0 = ct,\n",
    "                bus1 = ct + \" battery\",\n",
    "                efficiency = assumptions.at['battery inverter','efficiency'],\n",
    "                p_nom_extendable = True,\n",
    "                capital_cost=assumptions.at['battery inverter','fixed'])\n",
    "\n",
    "    network.add(\"Link\",ct + \" battery discharge\",\n",
    "                bus0 = ct + \" battery\",\n",
    "                bus1 = ct,\n",
    "                p_nom_extendable = True,\n",
    "                efficiency = assumptions.at['battery inverter','efficiency'])\n",
    "\n",
    "    def extra_functionality(network,snapshots):\n",
    "        def battery(model):\n",
    "            return (model.link_p_nom[ct + \" battery charge\"] \n",
    "                    == model.link_p_nom[ct + \" battery discharge\"]*network.links.at[ct \n",
    "                    + \" battery charge\",\"efficiency\"])\n",
    "\n",
    "        network.model.battery = Constraint(rule=battery)\n",
    "\n",
    "    if add_hydrogen:\n",
    "\n",
    "        network.add(\"Bus\",\n",
    "                     ct + \" H2\",\n",
    "                     carrier=\"H2\")\n",
    "\n",
    "        network.add(\"Link\",\n",
    "                    ct + \" H2 electrolysis\",\n",
    "                    bus1=ct + \" H2\",\n",
    "                    bus0=ct,\n",
    "                    p_nom_extendable=True,\n",
    "                    efficiency=assumptions.at[\"H2 electrolysis\",\"efficiency\"],\n",
    "                    capital_cost=assumptions.at[\"H2 electrolysis\",\"fixed\"])\n",
    "\n",
    "        network.add(\"Link\",\n",
    "                     ct + \" H2 to power\",\n",
    "                     bus0=ct + \" H2\",\n",
    "                     bus1=ct,\n",
    "                     p_nom_extendable=True,\n",
    "                     efficiency=assumptions.at[\"H2 CCGT\",\"efficiency\"],\n",
    "                     capital_cost=assumptions.at[\"H2 CCGT\",\"fixed\"]*assumptions.at[\"H2 CCGT\",\"efficiency\"])  \n",
    "                     #NB: fixed cost is per MWel\n",
    "\n",
    "        network.add(\"Store\",\n",
    "                     ct + \" H2 storage\",\n",
    "                     bus=ct + \" H2\",\n",
    "                     e_nom_extendable=True,\n",
    "                     e_cyclic=True,\n",
    "                     capital_cost=assumptions.at[\"H2 storage\",\"fixed\"])\n",
    "\n",
    "\n",
    "    if solver_name == \"gurobi\":\n",
    "        solver_options = {\"threads\" : 4,\n",
    "                          \"method\" : 2,\n",
    "                          \"crossover\" : 0,\n",
    "                          \"BarConvTol\": 1.e-5,\n",
    "                          \"FeasibilityTol\": 1.e-6 }\n",
    "    else:\n",
    "        solver_options = {}\n",
    "\n",
    "\n",
    "    network.consistency_check()\n",
    "\n",
    "    network.lopf(solver_name=solver_name,\n",
    "                 solver_options=solver_options,\n",
    "                 extra_functionality=extra_functionality)\n",
    "\n",
    "    return network"
   ]
  },
  {
   "cell_type": "code",
   "execution_count": null,
   "metadata": {},
   "outputs": [],
   "source": [
    "def gather_stats(stats,network,ct,full_scenario):\n",
    "    \n",
    "    stats.loc[\"cost (€/MWh)\",full_scenario] = network.buses_t.marginal_price.mean()[ct]\n",
    "    \n",
    "    gens = [\"wind\",\"solar\"]\n",
    "    \n",
    "    for g in gens:\n",
    "        stats.loc[g+\" generation (MW)\",full_scenario] = network.generators.p_nom_opt[ct + \" \" + g]\n",
    "    stats.loc[\"Battery charge/discharge (MW)\",full_scenario] = network.links.p_nom_opt[ct + \" battery charge\"]\n",
    "        # NB: battery charge/discharge p_nom constrainted to match, modulo efficiency\n",
    "    stats.loc[\"Battery storage (MWh)\",full_scenario] = network.stores.e_nom_opt[ct + \" battery storage\"]\n",
    "    stats.loc[\"P2H (electolysis, MW)\",full_scenario] = network.links.p_nom_opt[ct + \" H2 electrolysis\"]\n",
    "    stats.loc[\"H2P (H2 CCGT, MW)\",full_scenario] = network.links.p_nom_opt[ct + \" H2 to power\"]\n",
    "    stats.loc[\"H2 storage (MWh)\",full_scenario] = network.stores.e_nom_opt[ct + \" H2 storage\"]\n",
    "    available = network.generators_t.p_max_pu.multiply(network.generators.p_nom_opt).sum() * frequency\n",
    "    used = network.generators_t.p.sum() * frequency\n",
    "    curtailment = (available-used)/available\n",
    "    \n",
    "    total_hours = network.snapshot_weightings.sum()\n",
    "    \n",
    "    stats.loc[\"Wind dispatch down (%)\",full_scenario] = curtailment[ct + \" wind\"]\n",
    "    stats.loc[\"Wind capacity factor (%)\",full_scenario] = (\n",
    "        used[ct + \" wind\"]/(network.generators.p_nom_opt[ct + \" wind\"]*total_hours))\n",
    "    \n",
    "    stats.loc[\"Solar dispatch down (%)\",full_scenario] = curtailment[ct + \" solar\"]\n",
    "    stats.loc[\"Solar capacity factor (%)\",full_scenario] = (\n",
    "        used[ct + \" solar\"]/(network.generators.p_nom_opt[ct + \" solar\"]*total_hours))\n",
    "    \n",
    "    return stats"
   ]
  },
  {
   "cell_type": "markdown",
   "metadata": {},
   "source": [
    "## Solve the system"
   ]
  },
  {
   "cell_type": "code",
   "execution_count": null,
   "metadata": {},
   "outputs": [],
   "source": [
    "ct = \"IE\"\n",
    "#scenario = \"2030-steel_tanks\"\n",
    "scenario = \"2030\"\n",
    "full_scenario = ct+'-'+scenario+'-WP2010'+'-'+str(frequency)+\"H\"\n",
    "\n",
    "network = solve_network(ct, scenario)"
   ]
  },
  {
   "cell_type": "code",
   "execution_count": null,
   "metadata": {},
   "outputs": [],
   "source": [
    "hours = network.snapshot_weightings.sum()\n",
    "print(F\"Total hours: {hours : 6.0f}\")\n",
    "assert(hours == network.snapshot_weightings.count()*frequency)"
   ]
  },
  {
   "cell_type": "code",
   "execution_count": null,
   "metadata": {},
   "outputs": [],
   "source": [
    "p_nom_wind = network.generators.p_nom_opt[ct + \" wind\"]\n",
    "print(F\"p_nom_wind: {(p_nom_wind/1e3) : 6.3f} GW\") \n",
    "\n",
    "e_nom_wind = p_nom_wind * hours\n",
    "print(F\"e_nom_wind : {(e_nom_wind/1e6) : 6.3f} TWh\")\n",
    "\n",
    "cap_fact_wind_max = network.generators_t.p_max_pu[ct + \" wind\"].mean() \n",
    "print(F\"cap_fact_max: {(cap_fact_wind_max *100.0) : 6.1f}%\") \n",
    "\n",
    "#available = network.generators_t.p_max_pu.multiply(network.generators.p_nom_opt).sum()\n",
    "e_available_wind = cap_fact_wind_max * e_nom_wind\n",
    "print(F\"e_available_wind : {(e_available_wind/1e6) : 6.3f} TWh\")\n",
    "\n",
    "e_used_wind = network.generators_t.p[ct + \" wind\"].sum()*frequency\n",
    "print(F\"e_used_wind : {(e_used_wind/1e6) : 6.3f} TWh\")\n",
    "\n",
    "cap_fact_wind = e_used_wind/e_nom_wind\n",
    "print(F\"cap_fact_wind: {(cap_fact_wind *100.0) : 6.1f}%\")\n",
    "\n",
    "#stats.loc[\"Wind capacity factor (%)\",full_scenario] = (\n",
    "#        used[ct + \" wind\"]/(network.generators.p_nom_opt[ct + \" wind\"]*network.snapshot_weightings.sum()))\n",
    "\n",
    "dispatch_down_wind = (e_available_wind - e_used_wind)/e_available_wind\n",
    "print(F\"dispatch_down_wind: {(dispatch_down_wind *100.0) : 6.3f}%\")"
   ]
  },
  {
   "cell_type": "code",
   "execution_count": null,
   "metadata": {},
   "outputs": [],
   "source": [
    "p_nom_solar = network.generators.p_nom_opt[ct + \" solar\"]\n",
    "print(F\"p_nom_solar: {(p_nom_solar/1e3) : 6.3f} GW\") \n",
    "\n",
    "e_nom_solar = p_nom_solar * hours\n",
    "print(F\"e_nom_solar : {(e_nom_solar/1e6) : 6.3f} TWh\")\n",
    "\n",
    "cap_fact_solar_max = network.generators_t.p_max_pu[ct + \" solar\"].mean() \n",
    "print(F\"cap_fact_max: {(cap_fact_solar_max *100.0) : 6.1f}%\") \n",
    "\n",
    "#available = network.generators_t.p_max_pu.multiply(network.generators.p_nom_opt).sum()\n",
    "e_available_solar = cap_fact_solar_max * e_nom_solar\n",
    "print(F\"e_available_solar : {(e_available_solar/1e6) : 6.3f} TWh\")\n",
    "\n",
    "e_used_solar = network.generators_t.p[ct + \" solar\"].sum()*frequency\n",
    "print(F\"e_used_solar : {(e_used_solar/1e6) : 6.3f} TWh\")\n",
    "\n",
    "cap_fact_solar = e_used_solar/e_nom_solar\n",
    "print(F\"cap_fact_solar: {(cap_fact_solar *100.0) : 6.1f}%\")\n",
    "\n",
    "#stats.loc[\"solar capacity factor (%)\",full_scenario] = (\n",
    "#        used[ct + \" solar\"]/(network.generators.p_nom_opt[ct + \" solar\"]*network.snapshot_weightings.sum()))\n",
    "\n",
    "dispatch_down_solar = (e_available_solar - e_used_solar)/e_available_solar\n",
    "print(F\"dispatch_down_solar: {(dispatch_down_solar *100.0) : 6.3f}%\")"
   ]
  },
  {
   "cell_type": "code",
   "execution_count": null,
   "metadata": {},
   "outputs": [],
   "source": [
    "e_used = e_used_solar + e_used_wind\n",
    "sys_storage_efficiency = load_e/e_used \n",
    "  # Losses arise from storage round-trip/temporal shifting\n",
    "  # Excludes \"dispatch down\" - though that should arguably be counted also?\n",
    "print(F\"sys_storage_efficiency: {(sys_storage_efficiency *100.0) : 6.1f}%\")\n",
    "\n",
    "e_available = e_available_wind + e_available_solar\n",
    "sys_overall_efficiency = load_e/e_available\n",
    "print(F\"sys_overall_efficiency: {(sys_overall_efficiency *100.0) : 6.1f}%\")\n",
    "\n",
    "penetration_wind = e_used_wind/e_used\n",
    "print(F\"penetration_wind: {(penetration_wind *100.0) : 6.1f}%\")\n",
    "\n",
    "penetration_solar = e_used_solar/e_used\n",
    "print(F\"penetration_solar: {(penetration_solar *100.0) : 6.1f}%\")\n"
   ]
  },
  {
   "cell_type": "code",
   "execution_count": null,
   "metadata": {},
   "outputs": [],
   "source": [
    "# Uncomment and run this if/when desired to clear the accumulated stats.\n",
    "# FIXME: would like to have any way to shovel these result checkpoints out to \n",
    "# a external (persistent) data files?\n",
    "\n",
    "# stats_checkpoint_0_pre_VRE_freq_mean = stats # manually fix/choose archive name!\n",
    "# stats=pd.DataFrame() "
   ]
  },
  {
   "cell_type": "code",
   "execution_count": null,
   "metadata": {},
   "outputs": [],
   "source": [
    "try: stats\n",
    "except NameError: \n",
    "    stats=pd.DataFrame()\n",
    "\n",
    "gather_stats(stats,network,ct,full_scenario)"
   ]
  },
  {
   "cell_type": "code",
   "execution_count": null,
   "metadata": {},
   "outputs": [],
   "source": [
    "def fmt_percent(x) :\n",
    "    return (F\"{x : 6.2%}\")\n",
    "\n",
    "def fmt_GW(x) : \n",
    "    # x in MW\n",
    "    return (F\"{x/1.0e3 : 6.2f} GW\")\n",
    "\n",
    "def fmt_TWh(x) : \n",
    "    # x in TWh\n",
    "    return (F\"{x/1.0e6 : 6.2f} TWh\")\n",
    "\n",
    "fmt_funcs = {\n",
    "    'wind generation (MW)' : fmt_GW,\n",
    "    'H2 storage (MWh)' : fmt_TWh,\n",
    "    'Wind dispatch down (%)': fmt_percent,\n",
    "    }"
   ]
  },
  {
   "cell_type": "code",
   "execution_count": null,
   "metadata": {},
   "outputs": [],
   "source": [
    "fmt_stats=stats.transform(func=fmt_funcs, axis='columns')\n",
    "display(fmt_stats)"
   ]
  },
  {
   "cell_type": "code",
   "execution_count": null,
   "metadata": {},
   "outputs": [],
   "source": [
    "#stats.style.format(\"{:10.2f}\")\n",
    "#print(stats)\n",
    "#stats.apply(lambda x: type(x))\n",
    "\n",
    "#pd.set_option('precision', 10)\n",
    "#pd.set_eng_float_format(accuracy=3, use_eng_prefix=True)\n",
    "\n",
    "#def tst_format(x) :\n",
    "#    return (F\"{x : 10.2f}\")\n",
    "\n",
    "#stats_str=stats.apply(lambda x: x.to_string(float_format=tst_format))\n",
    "\n",
    "#def tst_format(row) :\n",
    "    #print(type(x))\n",
    "    #print(x.name)\n",
    "#    if (row.name == 'Wind dispatch down (%)') :\n",
    "#        row = row.apply(lambda x : F\"{x*100 : 10.2f}\")\n",
    "#        display(row)\n",
    "#    return row\n",
    "\n",
    "#stats_str=stats.apply(func = tst_format, axis='columns')\n",
    "#stats_str=stats.transform(func={'Wind dispatch down (%)': tst_format}, axis='columns')\n",
    "#stats_str=stats.transform(func={'Wind dispatch down (%)': (lambda x : F\"{x*100 : 10.2f}%\")}, axis='columns')\n",
    "\n",
    "#stats_str\n",
    "#print(type(stats_str))\n",
    "\n",
    "#print(stats_str)\n",
    "\n",
    "#tst = stats.loc['cost (€/MWh)',:]\n",
    "#print(tst)\n",
    "#print(tst.name)\n",
    "#print(tst.dtype)\n",
    "#print(tst.axes)\n",
    "#print(tst.index)\n",
    "#print(tst.values)\n",
    "#print(tst.to_latex())\n",
    "#print(tst.to_string(float_format=tst_format))"
   ]
  },
  {
   "cell_type": "code",
   "execution_count": null,
   "metadata": {},
   "outputs": [],
   "source": [
    "stats_checkpoint_0_pre_VRE_freq_mean \n",
    " # Archived before fixing the VRE pu data to re-sample (taking means) rather than \n",
    " # just sub-sample (per original WHOBS)"
   ]
  },
  {
   "cell_type": "code",
   "execution_count": null,
   "metadata": {},
   "outputs": [],
   "source": [
    "#absolute market value in EUR/MWh\n",
    "(network.generators_t.p.multiply(network.buses_t.marginal_price[ct],axis=0).sum()/network.generators_t.p.sum())"
   ]
  },
  {
   "cell_type": "code",
   "execution_count": null,
   "metadata": {},
   "outputs": [],
   "source": [
    "#market cost in EUR/MWh (LCOE) - for long-term equilibrium without additional constraints, same as market value\n",
    "(network.generators.capital_cost*network.generators.p_nom_opt)/network.generators_t.p.sum()"
   ]
  },
  {
   "cell_type": "code",
   "execution_count": null,
   "metadata": {},
   "outputs": [],
   "source": [
    "#relative market value\n",
    "(network.generators_t.p.multiply(network.buses_t.marginal_price[ct],axis=0).sum()/\n",
    "     network.generators_t.p.sum())/network.buses_t.marginal_price[ct].mean()"
   ]
  },
  {
   "cell_type": "code",
   "execution_count": null,
   "metadata": {},
   "outputs": [],
   "source": [
    "#relative market value\n",
    "(network.links_t.p0.multiply(network.buses_t.marginal_price[ct],axis=0).sum()/\n",
    "     network.links_t.p0.sum())/network.buses_t.marginal_price[ct].mean()"
   ]
  },
  {
   "cell_type": "code",
   "execution_count": null,
   "metadata": {},
   "outputs": [],
   "source": [
    "%matplotlib notebook\n",
    "\n",
    "#start = \"2015-01-01\"\n",
    "#stop = \"2015-12-31\"\n",
    "start = F\"{year_start}-01-01\"\n",
    "stop = F\"{year_end}-12-31\"\n",
    "\n",
    "fig, ax = plt.subplots()\n",
    "#fig.set_size_inches((10,8))\n",
    "\n",
    "\n",
    "rename = {\"wind\" : \"onshore wind\",\n",
    "          \"solar\" : \"utility solar PV\",\n",
    "          \"battery discharge\" : \"battery discharge\",\n",
    "          \"battery charge\" : \"battery charge\",\n",
    "          \"H2 electrolysis\" : \"hydrogen electrolysis\",\n",
    "          \"H2 to power\" : \"hydrogen turbine\"}\n",
    "\n",
    "rename = {ct + \" \"+k : v for k,v in rename.items()}\n",
    "\n",
    "rename[ct] = \"load\"\n",
    "\n",
    "colors = {\"onshore wind\" : \"b\",\n",
    "           \"utility solar PV\" : \"y\",\n",
    "           \"battery discharge\" : \"gray\",\n",
    "           \"battery charge\" : \"gray\",\n",
    "           \"load\" : \"k\",\n",
    "           \"hydrogen electrolysis\" : \"m\",\n",
    "           \"hydrogen turbine\" : \"r\"\n",
    "          }\n",
    "\n",
    "\n",
    "# FIXME: for some reason (solver tolerance?) some solution values that should be strictly \n",
    "# positive or negative may be infinitesimally (< 10e-10) of the other sign. This will cause \n",
    "# df.plot(stacked=True) to throw an error (requires all values to have same sign, positive or \n",
    "# negative). So we do an ugly kludge to fix it...\n",
    "def zero_tol(x) :\n",
    "        if ((x>-1.0e-10) and (x<1.0e-10)):\n",
    "            x = 0.0\n",
    "        return(x)\n",
    "\n",
    "positive = pd.concat((network.generators_t.p,-network.links_t.p1[[ct+\" H2 to power\",ct+\" battery discharge\"]]),\n",
    "                     axis=1).rename(columns=rename)\n",
    "positive = positive.applymap(zero_tol)\n",
    "\n",
    "negative = pd.concat((-network.loads_t.p,-network.links_t.p0[[ct+\" H2 electrolysis\",ct+\" battery charge\"]]),\n",
    "                     axis=1).rename(columns=rename)\n",
    "negative = negative.applymap(zero_tol)\n",
    "\n",
    "print((abs(positive.sum(axis=1) + negative.sum(axis=1)) > 0.1).any())\n",
    "\n",
    "positive.loc[start:stop].plot(kind=\"area\",stacked=True,ax=ax,linewidth=0,\n",
    "                              color=[colors[i] for i in positive.columns])\n",
    "\n",
    "negative.loc[start:stop].plot(kind=\"area\",stacked=True,ax=ax,linewidth=0,\n",
    "                              color=[colors[i] for i in negative.columns])\n",
    "\n",
    "ax.set_ylim([-2.0*load_max,+2.0*load_max])\n",
    "\n",
    "ax.set_xlim([start,stop])\n",
    "\n",
    "ax.set_ylabel(\"Dispatch (generation is +ve, demand is -ve) [MW]\")\n",
    "\n",
    "ax.legend(ncol=3,loc=\"upper left\")\n",
    "\n",
    "fig.tight_layout()\n",
    "\n",
    "#fig.savefig(\"img/{}-{}-{}-{}.png\".format(ct,scenario,start,stop),dpi=100)"
   ]
  },
  {
   "cell_type": "code",
   "execution_count": null,
   "metadata": {},
   "outputs": [],
   "source": [
    "network.buses_t.marginal_price.plot()"
   ]
  },
  {
   "cell_type": "code",
   "execution_count": null,
   "metadata": {},
   "outputs": [],
   "source": [
    "network.buses_t.marginal_price.mean()"
   ]
  },
  {
   "cell_type": "code",
   "execution_count": null,
   "metadata": {},
   "outputs": [],
   "source": [
    "network.links_t.p0.mean()/network.links.p_nom_opt"
   ]
  },
  {
   "cell_type": "code",
   "execution_count": null,
   "metadata": {},
   "outputs": [],
   "source": [
    "%matplotlib notebook\n",
    "\n",
    "opt_costs = pd.Series()\n",
    "\n",
    "\n",
    "opt_costs = pd.concat((opt_costs,network.generators.capital_cost*network.generators.p_nom_opt))\n",
    "\n",
    "opt_costs = pd.concat((opt_costs,network.links.capital_cost*network.links.p_nom_opt))\n",
    "\n",
    "opt_costs = pd.concat((opt_costs,network.stores.capital_cost*network.stores.e_nom_opt))\n",
    "\n",
    "\n",
    "(opt_costs/opt_costs.sum()).plot(kind=\"bar\",grid=True)\n"
   ]
  },
  {
   "cell_type": "code",
   "execution_count": null,
   "metadata": {},
   "outputs": [],
   "source": [
    "print(opt_costs)"
   ]
  },
  {
   "cell_type": "markdown",
   "metadata": {},
   "source": [
    "## Reflection\n",
    "\n",
    "+ I don't really have a good intuition for why battery storage is being used at the level it is. Presumably if we go to more coarse-grained temporal resolution it stops being used altogether?\n",
    "+ Battery and DSM (including heating and vehicle charging flexibilities) presumablly all fall into the same ~24 hour flexibility regime.\n",
    "+ Flow batteries would, presumably, have a quite different profile: maybe conceivably competitive with ammonia? Could we add a model of that?"
   ]
  }
 ],
 "metadata": {
  "kernelspec": {
   "display_name": "Python 3",
   "language": "python",
   "name": "python3"
  },
  "language_info": {
   "codemirror_mode": {
    "name": "ipython",
    "version": 3
   },
   "file_extension": ".py",
   "mimetype": "text/x-python",
   "name": "python",
   "nbconvert_exporter": "python",
   "pygments_lexer": "ipython3",
   "version": "3.7.8"
  }
 },
 "nbformat": 4,
 "nbformat_minor": 2
}
